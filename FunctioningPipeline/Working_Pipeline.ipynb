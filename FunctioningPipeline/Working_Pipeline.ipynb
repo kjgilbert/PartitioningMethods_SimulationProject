{
 "cells": [
  {
   "cell_type": "markdown",
   "metadata": {},
   "source": [
    "## Run ALF simulations\n",
    "\n",
    "- two datasets\n",
    "- same number of species as in Jeremy's empirical dataset\n",
    "\n",
    "### Other parameters currently:\n",
    "\n",
    "unitIsPam := true:\n",
    "\n",
    "#### parameters concerning the root genome\n",
    "realseed := false;\n",
    "protStart := 200;\n",
    "minGeneLength := 50;\n",
    "gammaLengthDist := [3, 133.8063];\n",
    "blocksize := 1:\n",
    "\n",
    "#### parameters concerning the species tree\n",
    "treeType := 'BDTree';\n",
    "birthRate := 0.01;\n",
    "deathRate := 0.001;\n",
    "NSpecies := 25;\n",
    "ultrametric := false;\n",
    "mutRate := 250;\n",
    "scaleTree := true;\n",
    "\n",
    "#### parameters concerning the substitution models\n",
    "substModels := [SubstitutionModel('LG')];\n",
    "indelModels := [IndelModel(0.0001, ZIPF, [1.821], 50)];\n",
    "rateVarModels := [RateVarModel()];\n",
    "modelAssignments := [1]:\n",
    "modelSwitchS := [[1]]:\n",
    "modelSwitchD := [[1]]:\n"
   ]
  },
  {
   "cell_type": "code",
   "execution_count": null,
   "metadata": {},
   "outputs": [],
   "source": [
    "!alfsim alf-params_lopho.drw"
   ]
  },
  {
   "cell_type": "code",
   "execution_count": null,
   "metadata": {},
   "outputs": [],
   "source": [
    "!alfsim alf-params_myria.drw"
   ]
  },
  {
   "cell_type": "markdown",
   "metadata": {},
   "source": [
    "#### Subsample the output MSAs\n",
    "\n",
    "- full genomes (461 amino acids currently ?)\n",
    "- half the genome\n"
   ]
  }
 ],
 "metadata": {
  "kernelspec": {
   "display_name": "TestingPartitioningMethods",
   "language": "python",
   "name": "python3"
  },
  "language_info": {
   "codemirror_mode": {
    "name": "ipython",
    "version": 3
   },
   "file_extension": ".py",
   "mimetype": "text/x-python",
   "name": "python",
   "nbconvert_exporter": "python",
   "pygments_lexer": "ipython3",
   "version": "3.7.3"
  }
 },
 "nbformat": 4,
 "nbformat_minor": 2
}
